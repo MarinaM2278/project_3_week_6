{
 "cells": [
  {
   "cell_type": "code",
   "execution_count": null,
   "metadata": {},
   "outputs": [],
   "source": [
    "import pandas as pd\n",
    "import numpy as np\n",
    "\n",
    "from sklearn.model_selection import train_test_split, cross_val_score, GridSearchCV\n",
    "from sklearn import preprocessing\n",
    "\n",
    "from sklearn_pandas import DataFrameMapper, CategoricalImputer\n",
    "from sklearn.linear_model import LogisticRegression, LinearRegression, Ridge, Lasso, LassoCV, ElasticNet, ElasticNetCV\n",
    "from sklearn.preprocessing import LabelBinarizer, StandardScaler, LabelEncoder\n",
    "\n",
    "import sklearn.decomposition, sklearn.linear_model, sklearn.pipeline, sklearn.metrics\n",
    "from sklearn.impute import SimpleImputer\n",
    "from sklearn.pipeline import Pipeline\n",
    "\n",
    "import pickle\n",
    "from sklearn.metrics import r2_score, accuracy_score, mean_squared_error\n",
    "\n",
    "from sklearn.pipeline import Pipeline\n"
   ]
  },
  {
   "cell_type": "code",
   "execution_count": null,
   "metadata": {},
   "outputs": [],
   "source": [
    "df = pd.read_csv('data/train-data.csv')"
   ]
  },
  {
   "cell_type": "code",
   "execution_count": null,
   "metadata": {},
   "outputs": [],
   "source": [
    "target = 'Price'\n",
    "y = df[target]\n",
    "X = df.drop(target, axis = 1)\n"
   ]
  },
  {
   "cell_type": "code",
   "execution_count": null,
   "metadata": {},
   "outputs": [],
   "source": [
    "X_train, X_test, y_train, y_test = train_test_split(X,y, test_size = 0.3, random_state=42)"
   ]
  },
  {
   "cell_type": "code",
   "execution_count": null,
   "metadata": {},
   "outputs": [],
   "source": [
    "X_train = X_train.drop('New_Price', axis = 1)\n",
    "X_test = X_test.drop('New_Price', axis = 1)\n",
    "\n",
    "X_train['Engine']= X_train['Engine'].astype('str')\n",
    "X_test['Engine']= X_test['Engine'].astype('str')\n",
    "\n",
    "X_train['Engine'] = X_train['Engine'].map(lambda x: x.lstrip('-CC').rstrip('aAbBcC'))\n",
    "X_test['Engine'] = X_test['Engine'].map(lambda x: x.lstrip('-CC').rstrip('aAbBcC'))\n",
    "\n",
    "split_train = X_train['Power'].str.split(' ', 1, expand= True)\n",
    "split_test = X_test['Power'].str.split(' ', 1, expand= True)\n",
    "\n",
    "X_train_split = X_train.assign(first_part=split_train[0], last_part=split_train[1])\n",
    "X_test_split = X_test.assign(first_part=split_test[0], last_part=split_test[1])\n",
    "\n",
    "X_train_split.drop('Power', 1, inplace=True)\n",
    "X_test_split.drop('Power', 1, inplace=True)\n",
    "\n",
    "X_train_split.drop('last_part', 1, inplace=True)\n",
    "X_test_split.drop('last_part', 1, inplace=True)\n",
    "\n",
    "X_train = X_train_split\n",
    "X_test = X_test_split\n",
    "\n",
    "X_train = X_train.rename(columns = {'first_part':'power'})\n",
    "X_test = X_test.rename(columns = {'first_part':'power'})\n",
    "\n",
    "X_train['power'] = X_train['power'].astype('str')\n",
    "X_test['power'] = X_test['power'].astype('str') ###\n",
    "\n",
    "\n",
    "X_train['Mileage'] = X_train['Mileage'].astype('str')\n",
    "X_test['Mileage'] = X_test['Mileage'].astype('str')\n",
    "\n",
    "split1_train = X_train['Mileage'].str.split(' ', 1, expand= True)\n",
    "split1_test = X_test['Mileage'].str.split(' ', 1, expand= True)\n",
    "X_train_split2 = X_train.assign(first_part=split1_train[0], last_part=split1_train[1])\n",
    "X_test_split2 = X_test.assign(first_part=split1_test[0], last_part=split1_test[1])\n",
    "X_train_split2.drop('Mileage', 1, inplace=True)\n",
    "X_test_split2.drop('Mileage', 1, inplace=True)\n",
    "\n",
    "X_train_split2.drop('last_part', 1, inplace=True)\n",
    "X_test_split2.drop('last_part', 1, inplace=True)\n",
    "\n",
    "X_train = X_train_split2\n",
    "X_test = X_test_split2\n",
    "\n",
    "X_train = X_train.rename(columns = {'first_part':'mileage'})\n",
    "X_test = X_test.rename(columns = {'first_part':'mileage'})\n",
    "\n",
    "split1_train = X_train['Name'].str.split(' ', 1, expand= True)\n",
    "split1_test = X_test['Name'].str.split(' ', 1, expand= True)\n",
    "\n",
    "X_train_split2 = X_train.assign(first_part=split1_train[0], last_part=split1_train[1])\n",
    "X_test_split2 = X_test.assign(first_part=split1_test[0], last_part=split1_test[1])\n",
    "\n",
    "X_train_split2.drop('Name', 1, inplace=True)\n",
    "X_test_split2.drop('Name', 1, inplace=True)\n",
    "\n",
    "X_train_split2.drop('last_part', 1, inplace=True)\n",
    "X_test_split2.drop('last_part', 1, inplace=True)\n",
    "\n",
    "X_train = X_train_split2\n",
    "X_test = X_test_split2\n",
    "\n",
    "X_train = X_train.rename(columns = {'first_part':'name'})\n",
    "X_test = X_test.rename(columns = {'first_part':'name'})\n",
    "\n",
    "\n",
    "X_train['Owner_Type'] = X_train['Owner_Type'].apply({'First':1, 'Second':2, 'Third' : 3, 'Fourth & Above': 4}.get)\n",
    "X_test['Owner_Type'] = X_test['Owner_Type'].apply({'First':1, 'Second':2, 'Third' : 3, 'Fourth & Above': 4}.get)\n",
    "\n",
    "X_train['Transmission'] = X_train['Transmission'].apply({'Manual': 0, 'Automatic': 1}.get)\n",
    "X_test['Transmission'] = X_test['Transmission'].apply({'Manual': 0, 'Automatic': 1}.get)\n",
    "\n",
    "\n",
    "X_test.columns = map(str.lower, X_test.columns)\n",
    "\n",
    "X_train.columns = map(str.lower, X_train.columns)\n",
    "\n",
    "X_train.drop('power',  1, inplace=True)\n",
    "X_test.drop('power',  1, inplace=True)\n",
    "\n",
    "X_train.drop('engine',  1, inplace=True)\n",
    "X_test.drop('engine',  1, inplace=True)\n",
    "\n",
    "X_train.drop('mileage',  1, inplace=True)\n",
    "X_test.drop('mileage',  1, inplace=True)\n"
   ]
  },
  {
   "cell_type": "code",
   "execution_count": null,
   "metadata": {},
   "outputs": [],
   "source": [
    "y_train = y_train * 0.014      ###conversion to US $\n",
    "\n",
    "X_train.rename({\"unnamed: 0\":\"a\"}, axis=\"columns\", inplace=True)\n",
    "X_train.drop([\"a\"], axis=1, inplace=True)\n",
    "\n",
    "X_test.rename({\"unnamed: 0\":\"a\"}, axis=\"columns\", inplace=True)\n",
    "X_test.drop([\"a\"], axis=1, inplace=True)\n",
    "\n",
    "le = preprocessing.LabelEncoder()\n",
    "\n",
    "le.fit( X_train['name'])\n",
    "le.transform(X_train['name'])\n",
    "\n",
    "le.fit( X_train['location'])\n",
    "le.transform(X_train['location'])\n"
   ]
  },
  {
   "cell_type": "code",
   "execution_count": null,
   "metadata": {},
   "outputs": [],
   "source": [
    "mapper = DataFrameMapper([\n",
    "    (['name'], [LabelBinarizer()]),\n",
    "    (['location'], [LabelBinarizer()]),\n",
    "    (['year'], [StandardScaler()]),\n",
    "    (['kilometers_driven'], [SimpleImputer(), StandardScaler()]),\n",
    "    (['fuel_type'], [CategoricalImputer(), LabelBinarizer()]),\n",
    "   (['transmission'],[CategoricalImputer(), LabelBinarizer()]),\n",
    "    (['owner_type'], [SimpleImputer(), StandardScaler()]),\n",
    "    (['seats'], [SimpleImputer(), StandardScaler()]),\n",
    "    ], df_out= True)\n"
   ]
  },
  {
   "cell_type": "code",
   "execution_count": null,
   "metadata": {},
   "outputs": [],
   "source": [
    "Z_train= mapper.fit_transform(X_train)\n",
    "Z_test = mapper.transform(X_test)\n",
    "\n",
    "\n",
    "model = LinearRegression()"
   ]
  },
  {
   "cell_type": "code",
   "execution_count": null,
   "metadata": {},
   "outputs": [],
   "source": [
    "# Pipe\n",
    "pipe = make_pipeline(mapper, model)\n",
    "pipe.fit(X_train, y_train)\n",
    "pipe.score(X_test, y_test)\n",
    "\n",
    "\n",
    "pickle.dump(pipe, open('pipe.pkl', 'wb'))\n",
    "del pipe\n",
    "pipe = pickle.load(open('pipe.pkl', 'rb'))\n",
    "pipe\n"
   ]
  }
 ],
 "metadata": {
  "kernelspec": {
   "display_name": "Python 3",
   "language": "python",
   "name": "python3"
  },
  "language_info": {
   "codemirror_mode": {
    "name": "ipython",
    "version": 3
   },
   "file_extension": ".py",
   "mimetype": "text/x-python",
   "name": "python",
   "nbconvert_exporter": "python",
   "pygments_lexer": "ipython3",
   "version": "3.7.4"
  }
 },
 "nbformat": 4,
 "nbformat_minor": 2
}
